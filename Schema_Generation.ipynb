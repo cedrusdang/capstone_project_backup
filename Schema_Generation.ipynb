{
 "cells": [
  {
   "cell_type": "markdown",
   "id": "f10d3704",
   "metadata": {},
   "source": [
    "To use this pipeline, you need to follow these steps:\n",
    "\n",
    "- 1. Create data folder\n",
    "- 2. Place your .sqlite files in the data folder - just throw the whole directory in there and the script will handle the rest.\n",
    "- 3. Run the Create_schema.py script to extract the SQL file paths.\n",
    "- 4. Use the extracted paths with the SQLiteConnector class to interact with your databases.\n",
    "- 5. Follow the usage examples provided in the Demo_notebook.ipynb file.\n",
    "\n",
    "Future plans:\n",
    "\n",
    "- Extract database schema information\n",
    "- Implement support for other SQL databases (e.g., MySQL, PostgreSQL)\n",
    "- Optimize the SQL query execution process by generating a compact version of schema information for AI agents.\n",
    "- Build AI agent capabilities to scan for any error or create vector embeddings of more detail schema information.\n",
    "\n",
    "=> The connector class can support all query actions for SQLite databases."
   ]
  },
  {
   "cell_type": "markdown",
   "id": "e56ae371",
   "metadata": {},
   "source": [
    "# REASONING IN THIS NOTEBOOK REQUIRES A VERIFICATION STEP ON OPENAI'S PLATFORM.\n",
    "https://help.openai.com/en/articles/10910291-api-organization-verification\n"
   ]
  },
  {
   "cell_type": "code",
   "execution_count": 1,
   "id": "a264426f",
   "metadata": {},
   "outputs": [
    {
     "name": "stdout",
     "output_type": "stream",
     "text": [
      "{\n",
      "    \"academic\": \"data/academic/academic.sqlite\",\n",
      "    \"activity_1\": \"data/activity_1/activity_1.sqlite\",\n",
      "    \"aircraft\": \"data/aircraft/aircraft.sqlite\",\n",
      "    \"allergy_1\": \"data/allergy_1/allergy_1.sqlite\",\n",
      "    \"apartment_rentals\": \"data/apartment_rentals/apartment_rentals.sqlite\",\n",
      "    \"architecture\": \"data/architecture/architecture.sqlite\",\n",
      "    \"assets_maintenance\": \"data/assets_maintenance/assets_maintenance.sqlite\",\n",
      "    \"baseball_1\": \"data/baseball_1/baseball_1.sqlite\",\n",
      "    \"battle_death\": \"data/battle_death/battle_death.sqlite\",\n",
      "    \"behavior_monitoring\": \"data/behavior_monitoring/behavior_monitoring.sqlite\",\n",
      "    \"bike_1\": \"data/bike_1/bike_1.sqlite\",\n",
      "    \"body_builder\": \"data/body_builder/body_builder.sqlite\",\n",
      "    \"book_2\": \"data/book_2/book_2.sqlite\",\n",
      "    \"browser_web\": \"data/browser_web/browser_web.sqlite\",\n",
      "    \"candidate_poll\": \"data/candidate_poll/candidate_poll.sqlite\",\n",
      "    \"car_1\": \"data/car_1/car_1.sqlite\",\n",
      "    \"chinook_1\": \"data/chinook_1/chinook_1.sqlite\",\n",
      "    \"cinema\": \"data/cinema/cinema.sqlite\",\n",
      "    \"city_record\": \"data/city_record/city_record.sqlite\",\n",
      "    \"climbing\": \"data/climbing/climbing.sqlite\",\n",
      "    \"club_1\": \"data/club_1/club_1.sqlite\",\n",
      "    \"coffee_shop\": \"data/coffee_shop/coffee_shop.sqlite\",\n",
      "    \"college_1\": \"data/college_1/college_1.sqlite\",\n",
      "    \"college_2\": \"data/college_2/college_2.sqlite\",\n",
      "    \"college_3\": \"data/college_3/college_3.sqlite\",\n",
      "    \"company_1\": \"data/company_1/company_1.sqlite\",\n",
      "    \"company_employee\": \"data/company_employee/company_employee.sqlite\",\n",
      "    \"company_office\": \"data/company_office/company_office.sqlite\",\n",
      "    \"concert_singer\": \"data/concert_singer/concert_singer.sqlite\",\n",
      "    \"county_public_safety\": \"data/county_public_safety/county_public_safety.sqlite\",\n",
      "    \"course_teach\": \"data/course_teach/course_teach.sqlite\",\n",
      "    \"cre_Docs_and_Epenses\": \"data/cre_Docs_and_Epenses/cre_Docs_and_Epenses.sqlite\",\n",
      "    \"cre_Doc_Control_Systems\": \"data/cre_Doc_Control_Systems/cre_Doc_Control_Systems.sqlite\",\n",
      "    \"cre_Doc_Template_Mgt\": \"data/cre_Doc_Template_Mgt/cre_Doc_Template_Mgt.sqlite\",\n",
      "    \"cre_Doc_Tracking_DB\": \"data/cre_Doc_Tracking_DB/cre_Doc_Tracking_DB.sqlite\",\n",
      "    \"cre_Drama_Workshop_Groups\": \"data/cre_Drama_Workshop_Groups/cre_Drama_Workshop_Groups.sqlite\",\n",
      "    \"cre_Theme_park\": \"data/cre_Theme_park/cre_Theme_park.sqlite\",\n",
      "    \"csu_1\": \"data/csu_1/csu_1.sqlite\",\n",
      "    \"culture_company\": \"data/culture_company/culture_company.sqlite\",\n",
      "    \"customers_and_addresses\": \"data/customers_and_addresses/customers_and_addresses.sqlite\",\n",
      "    \"customers_and_invoices\": \"data/customers_and_invoices/customers_and_invoices.sqlite\",\n",
      "    \"customers_and_products_contacts\": \"data/customers_and_products_contacts/customers_and_products_contacts.sqlite\",\n",
      "    \"customers_campaigns_ecommerce\": \"data/customers_campaigns_ecommerce/customers_campaigns_ecommerce.sqlite\",\n",
      "    \"customers_card_transactions\": \"data/customers_card_transactions/customers_card_transactions.sqlite\",\n",
      "    \"customer_complaints\": \"data/customer_complaints/customer_complaints.sqlite\",\n",
      "    \"customer_deliveries\": \"data/customer_deliveries/customer_deliveries.sqlite\",\n",
      "    \"debate\": \"data/debate/debate.sqlite\",\n",
      "    \"decoration_competition\": \"data/decoration_competition/decoration_competition.sqlite\",\n",
      "    \"department_management\": \"data/department_management/department_management.sqlite\",\n",
      "    \"department_store\": \"data/department_store/department_store.sqlite\",\n",
      "    \"device\": \"data/device/device.sqlite\",\n",
      "    \"document_management\": \"data/document_management/document_management.sqlite\",\n",
      "    \"dog_kennels\": \"data/dog_kennels/dog_kennels.sqlite\",\n",
      "    \"dorm_1\": \"data/dorm_1/dorm_1.sqlite\",\n",
      "    \"driving_school\": \"data/driving_school/driving_school.sqlite\",\n",
      "    \"election\": \"data/election/election.sqlite\",\n",
      "    \"election_representative\": \"data/election_representative/election_representative.sqlite\",\n",
      "    \"employee_hire_evaluation\": \"data/employee_hire_evaluation/employee_hire_evaluation.sqlite\",\n",
      "    \"entertainment_awards\": \"data/entertainment_awards/entertainment_awards.sqlite\",\n",
      "    \"entrepreneur\": \"data/entrepreneur/entrepreneur.sqlite\",\n",
      "    \"epinions_1\": \"data/epinions_1/epinions_1.sqlite\",\n",
      "    \"e_government\": \"data/e_government/e_government.sqlite\",\n",
      "    \"e_learning\": \"data/e_learning/e_learning.sqlite\",\n",
      "    \"farm\": \"data/farm/farm.sqlite\",\n",
      "    \"film_rank\": \"data/film_rank/film_rank.sqlite\",\n",
      "    \"flight_1\": \"data/flight_1/flight_1.sqlite\",\n",
      "    \"flight_2\": \"data/flight_2/flight_2.sqlite\",\n",
      "    \"flight_4\": \"data/flight_4/flight_4.sqlite\",\n",
      "    \"flight_company\": \"data/flight_company/flight_company.sqlite\",\n",
      "    \"formula_1\": \"data/formula_1/formula_1.sqlite\",\n",
      "    \"game_1\": \"data/game_1/game_1.sqlite\",\n",
      "    \"game_injury\": \"data/game_injury/game_injury.sqlite\",\n",
      "    \"gas_company\": \"data/gas_company/gas_company.sqlite\",\n",
      "    \"geo\": \"data/geo/geo.sqlite\",\n",
      "    \"gymnast\": \"data/gymnast/gymnast.sqlite\",\n",
      "    \"hospital_1\": \"data/hospital_1/hospital_1.sqlite\",\n",
      "    \"hr_1\": \"data/hr_1/hr_1.sqlite\",\n",
      "    \"icfp_1\": \"data/icfp_1/icfp_1.sqlite\",\n",
      "    \"imdb\": \"data/imdb/imdb.sqlite\",\n",
      "    \"inn_1\": \"data/inn_1/inn_1.sqlite\",\n",
      "    \"insurance_and_eClaims\": \"data/insurance_and_eClaims/insurance_and_eClaims.sqlite\",\n",
      "    \"insurance_fnol\": \"data/insurance_fnol/insurance_fnol.sqlite\",\n",
      "    \"insurance_policies\": \"data/insurance_policies/insurance_policies.sqlite\",\n",
      "    \"journal_committee\": \"data/journal_committee/journal_committee.sqlite\",\n",
      "    \"loan_1\": \"data/loan_1/loan_1.sqlite\",\n",
      "    \"local_govt_and_lot\": \"data/local_govt_and_lot/local_govt_and_lot.sqlite\",\n",
      "    \"local_govt_in_alabama\": \"data/local_govt_in_alabama/local_govt_in_alabama.sqlite\",\n",
      "    \"local_govt_mdm\": \"data/local_govt_mdm/local_govt_mdm.sqlite\",\n",
      "    \"machine_repair\": \"data/machine_repair/machine_repair.sqlite\",\n",
      "    \"manufactory_1\": \"data/manufactory_1/manufactory_1.sqlite\",\n",
      "    \"manufacturer\": \"data/manufacturer/manufacturer.sqlite\",\n",
      "    \"match_season\": \"data/match_season/match_season.sqlite\",\n",
      "    \"medicine_enzyme_interaction\": \"data/medicine_enzyme_interaction/medicine_enzyme_interaction.sqlite\",\n",
      "    \"mountain_photos\": \"data/mountain_photos/mountain_photos.sqlite\",\n",
      "    \"movie_1\": \"data/movie_1/movie_1.sqlite\",\n",
      "    \"museum_visit\": \"data/museum_visit/museum_visit.sqlite\",\n",
      "    \"musical\": \"data/musical/musical.sqlite\",\n",
      "    \"music_1\": \"data/music_1/music_1.sqlite\",\n",
      "    \"music_2\": \"data/music_2/music_2.sqlite\",\n",
      "    \"music_4\": \"data/music_4/music_4.sqlite\",\n",
      "    \"network_1\": \"data/network_1/network_1.sqlite\",\n",
      "    \"network_2\": \"data/network_2/network_2.sqlite\",\n",
      "    \"news_report\": \"data/news_report/news_report.sqlite\",\n",
      "    \"orchestra\": \"data/orchestra/orchestra.sqlite\",\n",
      "    \"party_host\": \"data/party_host/party_host.sqlite\",\n",
      "    \"party_people\": \"data/party_people/party_people.sqlite\",\n",
      "    \"performance_attendance\": \"data/performance_attendance/performance_attendance.sqlite\",\n",
      "    \"perpetrator\": \"data/perpetrator/perpetrator.sqlite\",\n",
      "    \"pets_1\": \"data/pets_1/pets_1.sqlite\",\n",
      "    \"phone_1\": \"data/phone_1/phone_1.sqlite\",\n",
      "    \"phone_market\": \"data/phone_market/phone_market.sqlite\",\n",
      "    \"pilot_record\": \"data/pilot_record/pilot_record.sqlite\",\n",
      "    \"poker_player\": \"data/poker_player/poker_player.sqlite\",\n",
      "    \"products_for_hire\": \"data/products_for_hire/products_for_hire.sqlite\",\n",
      "    \"products_gen_characteristics\": \"data/products_gen_characteristics/products_gen_characteristics.sqlite\",\n",
      "    \"product_catalog\": \"data/product_catalog/product_catalog.sqlite\",\n",
      "    \"program_share\": \"data/program_share/program_share.sqlite\",\n",
      "    \"protein_institute\": \"data/protein_institute/protein_institute.sqlite\",\n",
      "    \"race_track\": \"data/race_track/race_track.sqlite\",\n",
      "    \"railway\": \"data/railway/railway.sqlite\",\n",
      "    \"real_estate_properties\": \"data/real_estate_properties/real_estate_properties.sqlite\",\n",
      "    \"restaurants\": \"data/restaurants/restaurants.sqlite\",\n",
      "    \"restaurant_1\": \"data/restaurant_1/restaurant_1.sqlite\",\n",
      "    \"riding_club\": \"data/riding_club/riding_club.sqlite\",\n",
      "    \"roller_coaster\": \"data/roller_coaster/roller_coaster.sqlite\",\n",
      "    \"sakila_1\": \"data/sakila_1/sakila_1.sqlite\",\n",
      "    \"scholar\": \"data/scholar/scholar.sqlite\",\n",
      "    \"school_bus\": \"data/school_bus/school_bus.sqlite\",\n",
      "    \"school_finance\": \"data/school_finance/school_finance.sqlite\",\n",
      "    \"school_player\": \"data/school_player/school_player.sqlite\",\n",
      "    \"scientist_1\": \"data/scientist_1/scientist_1.sqlite\",\n",
      "    \"ship_1\": \"data/ship_1/ship_1.sqlite\",\n",
      "    \"ship_mission\": \"data/ship_mission/ship_mission.sqlite\",\n",
      "    \"shop_membership\": \"data/shop_membership/shop_membership.sqlite\",\n",
      "    \"singer\": \"data/singer/singer.sqlite\",\n",
      "    \"small_bank_1\": \"data/small_bank_1/small_bank_1.sqlite\",\n",
      "    \"soccer_1\": \"data/soccer_1/soccer_1.sqlite\",\n",
      "    \"soccer_2\": \"data/soccer_2/soccer_2.sqlite\",\n",
      "    \"solvency_ii\": \"data/solvency_ii/solvency_ii.sqlite\",\n",
      "    \"sports_competition\": \"data/sports_competition/sports_competition.sqlite\",\n",
      "    \"station_weather\": \"data/station_weather/station_weather.sqlite\",\n",
      "    \"store_1\": \"data/store_1/store_1.sqlite\",\n",
      "    \"store_product\": \"data/store_product/store_product.sqlite\",\n",
      "    \"storm_record\": \"data/storm_record/storm_record.sqlite\",\n",
      "    \"student_1\": \"data/student_1/student_1.sqlite\",\n",
      "    \"student_assessment\": \"data/student_assessment/student_assessment.sqlite\",\n",
      "    \"student_transcripts_tracking\": \"data/student_transcripts_tracking/student_transcripts_tracking.sqlite\",\n",
      "    \"swimming\": \"data/swimming/swimming.sqlite\",\n",
      "    \"theme_gallery\": \"data/theme_gallery/theme_gallery.sqlite\",\n",
      "    \"tracking_grants_for_research\": \"data/tracking_grants_for_research/tracking_grants_for_research.sqlite\",\n",
      "    \"tracking_orders\": \"data/tracking_orders/tracking_orders.sqlite\",\n",
      "    \"tracking_share_transactions\": \"data/tracking_share_transactions/tracking_share_transactions.sqlite\",\n",
      "    \"tracking_software_problems\": \"data/tracking_software_problems/tracking_software_problems.sqlite\",\n",
      "    \"train_station\": \"data/train_station/train_station.sqlite\",\n",
      "    \"tvshow\": \"data/tvshow/tvshow.sqlite\",\n",
      "    \"twitter_1\": \"data/twitter_1/twitter_1.sqlite\",\n",
      "    \"university_basketball\": \"data/university_basketball/university_basketball.sqlite\",\n",
      "    \"voter_1\": \"data/voter_1/voter_1.sqlite\",\n",
      "    \"voter_2\": \"data/voter_2/voter_2.sqlite\",\n",
      "    \"wedding\": \"data/wedding/wedding.sqlite\",\n",
      "    \"wine_1\": \"data/wine_1/wine_1.sqlite\",\n",
      "    \"workshop_paper\": \"data/workshop_paper/workshop_paper.sqlite\",\n",
      "    \"world_1\": \"data/world_1/world_1.sqlite\",\n",
      "    \"wrestler\": \"data/wrestler/wrestler.sqlite\",\n",
      "    \"wta_1\": \"data/wta_1/wta_1.sqlite\",\n",
      "    \"yelp\": \"data/yelp/yelp.sqlite\"\n",
      "}\n"
     ]
    }
   ],
   "source": [
    "import Create_Schema\n",
    "import json\n",
    "# Remember to put the data into data folder\n",
    "sql_file_paths = Create_Schema.extract_sql_file_paths(save_json=True)\n",
    "print(sql_file_paths)"
   ]
  },
  {
   "cell_type": "code",
   "execution_count": 2,
   "id": "cf7132a9",
   "metadata": {},
   "outputs": [
    {
     "name": "stdout",
     "output_type": "stream",
     "text": [
      "Schema information: {\n",
      "    \"tables\": {\n",
      "        \"film\": {\n",
      "            \"columns\": [\n",
      "                \"Film_ID\",\n",
      "                \"Rank_in_series\",\n",
      "                \"Number_in_season\",\n",
      "                \"Title\",\n",
      "                \"Directed_by\",\n",
      "                \"Original_air_date\",\n",
      "                \"Production_code\"\n",
      "            ],\n",
      "            \"primary_key\": [\n",
      "                \"Film_ID\"\n",
      "            ],\n",
      "            \"foreign_keys\": []\n",
      "        },\n",
      "        \"cinema\": {\n",
      "            \"columns\": [\n",
      "                \"Cinema_ID\",\n",
      "                \"Name\",\n",
      "                \"Openning_year\",\n",
      "                \"Capacity\",\n",
      "                \"Location\"\n",
      "            ],\n",
      "            \"primary_key\": [\n",
      "                \"Cinema_ID\"\n",
      "            ],\n",
      "            \"foreign_keys\": []\n",
      "        },\n",
      "        \"schedule\": {\n",
      "            \"columns\": [\n",
      "                \"Cinema_ID\",\n",
      "                \"Film_ID\",\n",
      "                \"Date\",\n",
      "                \"Show_times_per_day\",\n",
      "                \"Price\"\n",
      "            ],\n",
      "            \"primary_key\": [\n",
      "                \"Cinema_ID\",\n",
      "                \"Film_ID\"\n",
      "            ],\n",
      "            \"foreign_keys\": [\n",
      "                {\n",
      "                    \"from_column\": \"Cinema_ID\",\n",
      "                    \"ref_table\": \"cinema\",\n",
      "                    \"ref_column\": \"Cinema_ID\"\n",
      "                },\n",
      "                {\n",
      "                    \"from_column\": \"Film_ID\",\n",
      "                    \"ref_table\": \"film\",\n",
      "                    \"ref_column\": \"Film_ID\"\n",
      "                }\n",
      "            ]\n",
      "        }\n",
      "    }\n",
      "}\n"
     ]
    }
   ],
   "source": [
    "# Extract schema information from the database\n",
    "schema_cinema = Create_Schema.schema_extractor(sql_file_paths, db_name=\"cinema\", save_json=True)\n",
    "\n",
    "print(\"Schema information:\", schema_cinema)"
   ]
  },
  {
   "cell_type": "code",
   "execution_count": 3,
   "id": "9b03acf2",
   "metadata": {},
   "outputs": [
    {
     "name": "stderr",
     "output_type": "stream",
     "text": [
      "100%|██████████| 166/166 [00:00<00:00, 122107.06it/s]\n"
     ]
    },
    {
     "name": "stdout",
     "output_type": "stream",
     "text": [
      "Database names extracted to db_names.json.\n"
     ]
    },
    {
     "name": "stderr",
     "output_type": "stream",
     "text": [
      "100%|██████████| 166/166 [00:00<00:00, 489.63it/s]"
     ]
    },
    {
     "name": "stdout",
     "output_type": "stream",
     "text": [
      "Combined schema saved to combined_schema.json\n"
     ]
    },
    {
     "name": "stderr",
     "output_type": "stream",
     "text": [
      "\n"
     ]
    }
   ],
   "source": [
    "# Create database name JSON\n",
    "db_names = Create_Schema.create_names_json(sql_file_paths, save_json=True)\n",
    "# Create the combined schema\n",
    "combined_schema = Create_Schema.create_combined_schema(sql_file_paths, save_json=True)"
   ]
  },
  {
   "cell_type": "code",
   "execution_count": 4,
   "id": "af37d369",
   "metadata": {},
   "outputs": [
    {
     "data": {
      "text/plain": [
       "{'tables': {'film': {'columns': ['Film_ID',\n",
       "    'Rank_in_series',\n",
       "    'Number_in_season',\n",
       "    'Title',\n",
       "    'Directed_by',\n",
       "    'Original_air_date',\n",
       "    'Production_code'],\n",
       "   'primary_key': ['Film_ID'],\n",
       "   'foreign_keys': []},\n",
       "  'cinema': {'columns': ['Cinema_ID',\n",
       "    'Name',\n",
       "    'Openning_year',\n",
       "    'Capacity',\n",
       "    'Location'],\n",
       "   'primary_key': ['Cinema_ID'],\n",
       "   'foreign_keys': []},\n",
       "  'schedule': {'columns': ['Cinema_ID',\n",
       "    'Film_ID',\n",
       "    'Date',\n",
       "    'Show_times_per_day',\n",
       "    'Price'],\n",
       "   'primary_key': ['Cinema_ID', 'Film_ID'],\n",
       "   'foreign_keys': [{'from_column': 'Cinema_ID',\n",
       "     'ref_table': 'cinema',\n",
       "     'ref_column': 'Cinema_ID'},\n",
       "    {'from_column': 'Film_ID',\n",
       "     'ref_table': 'film',\n",
       "     'ref_column': 'Film_ID'}]}}}"
      ]
     },
     "execution_count": 4,
     "metadata": {},
     "output_type": "execute_result"
    }
   ],
   "source": [
    "# Extract schema by database name from local JSON files\n",
    "schema_cinema = Create_Schema.schema_from_json_file(\"schema_data/combined_schema.json\", db_name=\"cinema\", save_json=False)\n",
    "schema_cinema"
   ]
  },
  {
   "cell_type": "code",
   "execution_count": 5,
   "id": "7a793e22",
   "metadata": {},
   "outputs": [
    {
     "name": "stdout",
     "output_type": "stream",
     "text": [
      "Connecting to SQLite database at: data\\cinema\\cinema.sqlite\n",
      "Connection successful.\n",
      "Query results: [\n",
      "    [\n",
      "        {\n",
      "            \"Cinema_ID\": 1,\n",
      "            \"Name\": \"Codling\",\n",
      "            \"Openning_year\": 2010,\n",
      "            \"Capacity\": 1100,\n",
      "            \"Location\": \"County Wicklow\"\n",
      "        },\n",
      "        {\n",
      "            \"Cinema_ID\": 2,\n",
      "            \"Name\": \"Carrowleagh\",\n",
      "            \"Openning_year\": 2012,\n",
      "            \"Capacity\": 368,\n",
      "            \"Location\": \"County Cork\"\n",
      "        },\n",
      "        {\n",
      "            \"Cinema_ID\": 3,\n",
      "            \"Name\": \"Dublin Array\",\n",
      "            \"Openning_year\": 2015,\n",
      "            \"Capacity\": 364,\n",
      "            \"Location\": \"County Dublin\"\n",
      "        },\n",
      "        {\n",
      "            \"Cinema_ID\": 4,\n",
      "            \"Name\": \"Glenmore\",\n",
      "            \"Openning_year\": 2009,\n",
      "            \"Capacity\": 305,\n",
      "            \"Location\": \"County Clare\"\n",
      "        },\n",
      "        {\n",
      "            \"Cinema_ID\": 5,\n",
      "            \"Name\": \"Glenough\",\n",
      "            \"Openning_year\": 2010,\n",
      "            \"Capacity\": 325,\n",
      "            \"Location\": \"County Tipperary\"\n",
      "        },\n",
      "        {\n",
      "            \"Cinema_ID\": 6,\n",
      "            \"Name\": \"Gortahile\",\n",
      "            \"Openning_year\": 2010,\n",
      "            \"Capacity\": 208,\n",
      "            \"Location\": \"County Laois\"\n",
      "        },\n",
      "        {\n",
      "            \"Cinema_ID\": 7,\n",
      "            \"Name\": \"Grouse Lodge\",\n",
      "            \"Openning_year\": 2011,\n",
      "            \"Capacity\": 203,\n",
      "            \"Location\": \"County Tipperary\"\n",
      "        },\n",
      "        {\n",
      "            \"Cinema_ID\": 8,\n",
      "            \"Name\": \"Moneypoint\",\n",
      "            \"Openning_year\": 2011,\n",
      "            \"Capacity\": 225,\n",
      "            \"Location\": \"County Clare\"\n",
      "        },\n",
      "        {\n",
      "            \"Cinema_ID\": 9,\n",
      "            \"Name\": \"Mount Callan\",\n",
      "            \"Openning_year\": 2011,\n",
      "            \"Capacity\": 908,\n",
      "            \"Location\": \"County Clare\"\n",
      "        },\n",
      "        {\n",
      "            \"Cinema_ID\": 10,\n",
      "            \"Name\": \"Oriel\",\n",
      "            \"Openning_year\": 2013,\n",
      "            \"Capacity\": 330,\n",
      "            \"Location\": \"County Louth\"\n",
      "        }\n",
      "    ]\n",
      "]\n"
     ]
    }
   ],
   "source": [
    "from SQL_Connector import SQLite_Connector\n",
    "\n",
    "# Create the connector (For mutiple queries on multiple tables)\n",
    "connector = SQLite_Connector(sql_file_paths)\n",
    "\n",
    "def connect_and_query(data_name: str, query: str):\n",
    "    connector.connect(data_name)\n",
    "    return connector.execute_queries([query])\n",
    "\n",
    "# Connect to the database\n",
    "data_name = \"cinema\"\n",
    "query = \"SELECT * FROM cinema;\"\n",
    "results = connect_and_query(data_name, query)\n",
    "print(\"Query results:\", results)"
   ]
  },
  {
   "cell_type": "code",
   "execution_count": 6,
   "id": "932a2947",
   "metadata": {},
   "outputs": [],
   "source": [
    "# Create the schema with tables and columns (TESTING)\n",
    "db_names_test = Create_Schema.create_names_json_test(combined_schema, save_json=True)"
   ]
  },
  {
   "cell_type": "code",
   "execution_count": 7,
   "id": "a47e4f7d",
   "metadata": {},
   "outputs": [],
   "source": [
    "# AI AGENTS DEMOTRATION ON HOW TO USE THE SCHEMA\n",
    "from AI_Agents import Agent_A, Agent_B\n",
    "previous_reasoning = []\n",
    "# Agent A: User query to select database names\n",
    "user_query = \"How many singers do we have?\" # From Spider test set\n",
    "Agent_A_Response = Agent_A(user_query)"
   ]
  },
  {
   "cell_type": "code",
   "execution_count": 8,
   "id": "1237d25c",
   "metadata": {},
   "outputs": [],
   "source": [
    "def reasoning_extractor(resp):\n",
    "    # Extract reasoning results and final result, split by double newlines\n",
    "    results = []\n",
    "    for item in resp.output:\n",
    "        if getattr(item, \"type\", None) == \"reasoning\":\n",
    "            if getattr(item, \"summary\", None):\n",
    "                for s in item.summary:\n",
    "                    results.extend(s.text.split(\"\\n\\n\"))\n",
    "    return results"
   ]
  },
  {
   "cell_type": "code",
   "execution_count": 9,
   "id": "50908ec1",
   "metadata": {},
   "outputs": [
    {
     "data": {
      "text/markdown": [
       "**Selecting database names**"
      ],
      "text/plain": [
       "<IPython.core.display.Markdown object>"
      ]
     },
     "metadata": {},
     "output_type": "display_data"
    },
    {
     "data": {
      "text/markdown": [
       "I’m thinking about how to respond to the query: “How many singers do we have?” I need to pick relevant database names from the list. The clear choice is the “singer” database since it’s directly related. The “concert_singer” database looks good too, as it likely contains information about singers. “Orchestra” might have some singers but typically focuses on musicians. Other names like “tvshow” and “wedding” don’t seem relevant at all. I’ll focus on including “singer” and “concert_singer” for the JSON output."
      ],
      "text/plain": [
       "<IPython.core.display.Markdown object>"
      ]
     },
     "metadata": {},
     "output_type": "display_data"
    },
    {
     "data": {
      "text/markdown": [
       "**Choosing plausible databases**"
      ],
      "text/plain": [
       "<IPython.core.display.Markdown object>"
      ]
     },
     "metadata": {},
     "output_type": "display_data"
    },
    {
     "data": {
      "text/markdown": [
       "I need to focus on selecting the most plausible databases for the question, “How many singers do we have?” The clear top choice is the “singer” database, followed by “concert_singer.” Both contain relevant information like singer names. Since the request lacks context, I should include both. I should avoid including “music” databases since their relevance is uncertain, though “music_4” may have some connections to singers. Overall, I’m sticking with “singer” and “concert_singer” to be safe!"
      ],
      "text/plain": [
       "<IPython.core.display.Markdown object>"
      ]
     },
     "metadata": {},
     "output_type": "display_data"
    },
    {
     "data": {
      "text/markdown": [
       "**Finalizing database selection**"
      ],
      "text/plain": [
       "<IPython.core.display.Markdown object>"
      ]
     },
     "metadata": {},
     "output_type": "display_data"
    },
    {
     "data": {
      "text/markdown": [
       "I’m considering whether “tvshow” might contain singers, but that seems unlikely. “Orchestra” typically focuses more on performers and concerts, so it may not include singers either. I’ll stick with the strong choices: “singer” and “concert_singer.” I could ponder including some of the “music” databases, but I don’t want to overcomplicate things. So, I’ll limit my output to just the two main databases. I need to check the formatting too; it should be a pure JSON object with the right structure!"
      ],
      "text/plain": [
       "<IPython.core.display.Markdown object>"
      ]
     },
     "metadata": {},
     "output_type": "display_data"
    },
    {
     "data": {
      "text/markdown": [
       "**Deciding on databases**"
      ],
      "text/plain": [
       "<IPython.core.display.Markdown object>"
      ]
     },
     "metadata": {},
     "output_type": "display_data"
    },
    {
     "data": {
      "text/markdown": [
       "I’m thinking about which databases to choose for the query, “How many singers do we have?” It seems like “performance_attendance” might not provide useful singer details, so I’ll skip that one. However, both “singer” and “concert_singer” are strong options. I should list them in order with “singer” first, followed by “concert_singer.” The output needs to be a JSON format, and I have to ensure nothing else is included. I’ll get this done!"
      ],
      "text/plain": [
       "<IPython.core.display.Markdown object>"
      ]
     },
     "metadata": {},
     "output_type": "display_data"
    },
    {
     "data": {
      "text/markdown": [
       "**Selecting databases**"
      ],
      "text/plain": [
       "<IPython.core.display.Markdown object>"
      ]
     },
     "metadata": {},
     "output_type": "display_data"
    },
    {
     "data": {
      "text/markdown": [
       "In this scenario, I don't need multiple databases to answer the query. I’ll primarily go with “singer” as my top choice. I think it makes sense to include “concert_singer” as an additional option, so I’ll have both in my output. My final JSON object will look like this:"
      ],
      "text/plain": [
       "<IPython.core.display.Markdown object>"
      ]
     },
     "metadata": {},
     "output_type": "display_data"
    },
    {
     "data": {
      "text/markdown": [
       "{\n",
       "  \"db_names\": [\"singer\", \"concert_singer\"]\n",
       "}"
      ],
      "text/plain": [
       "<IPython.core.display.Markdown object>"
      ]
     },
     "metadata": {},
     "output_type": "display_data"
    },
    {
     "data": {
      "text/markdown": [
       "Alright, that seems clear and straightforward! I'll proceed with that."
      ],
      "text/plain": [
       "<IPython.core.display.Markdown object>"
      ]
     },
     "metadata": {},
     "output_type": "display_data"
    },
    {
     "name": "stdout",
     "output_type": "stream",
     "text": [
      "\n",
      "Possible tables are: {'db_names': ['singer', 'concert_singer']}\n"
     ]
    }
   ],
   "source": [
    "from IPython.display import display, Markdown, HTML\n",
    "Agent_A_results = reasoning_extractor(Agent_A_Response)\n",
    "for result in Agent_A_results:\n",
    "    # print in marked down format\n",
    "    previous_reasoning.append(result)\n",
    "    display(Markdown(result))\n",
    "Agent_A_output = json.loads(Agent_A_Response.output_text)\n",
    "print(\"\\nPossible tables are:\", Agent_A_output)"
   ]
  },
  {
   "cell_type": "code",
   "execution_count": 10,
   "id": "d3693f75",
   "metadata": {},
   "outputs": [
    {
     "name": "stdout",
     "output_type": "stream",
     "text": [
      "User query: How many singers do we have?\n"
     ]
    },
    {
     "name": "stderr",
     "output_type": "stream",
     "text": [
      "  0%|          | 0/2 [00:00<?, ?it/s]"
     ]
    },
    {
     "name": "stdout",
     "output_type": "stream",
     "text": [
      "\n",
      "Generating SQL query for schema: singer\n"
     ]
    },
    {
     "data": {
      "text/markdown": [
       "**Providing SQL query**"
      ],
      "text/plain": [
       "<IPython.core.display.Markdown object>"
      ]
     },
     "metadata": {},
     "output_type": "display_data"
    },
    {
     "data": {
      "text/markdown": [
       "I need to produce an SQL query based on the schema with two tables: singer and song. To count the number of singers, I can either count distinct Singer_IDs or simply count all rows in the singer table. The query that works is: "
      ],
      "text/plain": [
       "<IPython.core.display.Markdown object>"
      ]
     },
     "metadata": {},
     "output_type": "display_data"
    },
    {
     "data": {
      "text/markdown": [
       "SELECT COUNT(*) AS singer_count FROM singer;"
      ],
      "text/plain": [
       "<IPython.core.display.Markdown object>"
      ]
     },
     "metadata": {},
     "output_type": "display_data"
    },
    {
     "data": {
      "text/markdown": [
       "I want to ensure there’s no extra formatting, just the SQL code. I think I’ve got it right! No edge cases to worry about here."
      ],
      "text/plain": [
       "<IPython.core.display.Markdown object>"
      ]
     },
     "metadata": {},
     "output_type": "display_data"
    },
    {
     "name": "stderr",
     "output_type": "stream",
     "text": [
      " 50%|█████     | 1/2 [00:04<00:04,  4.07s/it]"
     ]
    },
    {
     "name": "stdout",
     "output_type": "stream",
     "text": [
      "\n",
      "Generated SQL query: SELECT COUNT(*) AS singer_count\n",
      "FROM singer;\n",
      "\n",
      "Generating SQL query for schema: concert_singer\n"
     ]
    },
    {
     "data": {
      "text/markdown": [
       "**Generating SQL query**"
      ],
      "text/plain": [
       "<IPython.core.display.Markdown object>"
      ]
     },
     "metadata": {},
     "output_type": "display_data"
    },
    {
     "data": {
      "text/markdown": [
       "I need to create a SQL query based on the provided schema to answer the user’s question: \"How many singers do we have?\" It's quite straightforward. The schema includes a singer table with a primary key, Singer_ID. My final query will be: \"SELECT COUNT(*) AS total_singers FROM singer;\" This keeps it simple and meets the user's request without additional explanation. Plus, the primary key ensures there are no duplicates, so I'm confident in using COUNT(*)."
      ],
      "text/plain": [
       "<IPython.core.display.Markdown object>"
      ]
     },
     "metadata": {},
     "output_type": "display_data"
    },
    {
     "data": {
      "text/markdown": [
       "**Creating a plain SQL query**"
      ],
      "text/plain": [
       "<IPython.core.display.Markdown object>"
      ]
     },
     "metadata": {},
     "output_type": "display_data"
    },
    {
     "data": {
      "text/markdown": [
       "I need to ensure the SQL query is straightforward and not overly formatted. It's important to avoid any ambiguity in the output, which is a good practice! By focusing on a plain query, I’ll count all entries with COUNT(*), as that's perfectly acceptable here. Let’s go ahead and finalize that query without any complications or extra steps. Just a clean and simple output should do the trick!"
      ],
      "text/plain": [
       "<IPython.core.display.Markdown object>"
      ]
     },
     "metadata": {},
     "output_type": "display_data"
    },
    {
     "name": "stderr",
     "output_type": "stream",
     "text": [
      "100%|██████████| 2/2 [00:13<00:00,  6.67s/it]"
     ]
    },
    {
     "name": "stdout",
     "output_type": "stream",
     "text": [
      "\n",
      "Generated SQL query: SELECT COUNT(*) AS total_singers\n",
      "FROM singer;\n",
      "\n",
      "Generated SQL queries:\n"
     ]
    },
    {
     "name": "stderr",
     "output_type": "stream",
     "text": [
      "\n"
     ]
    },
    {
     "data": {
      "text/markdown": [
       "SELECT COUNT(*) AS singer_count\n",
       "FROM singer;"
      ],
      "text/plain": [
       "<IPython.core.display.Markdown object>"
      ]
     },
     "metadata": {},
     "output_type": "display_data"
    },
    {
     "data": {
      "text/markdown": [
       "SELECT COUNT(*) AS total_singers\n",
       "FROM singer;"
      ],
      "text/plain": [
       "<IPython.core.display.Markdown object>"
      ]
     },
     "metadata": {},
     "output_type": "display_data"
    }
   ],
   "source": [
    "from tqdm import tqdm\n",
    "# Agent B: Generate SQL queries based on the selected database names\n",
    "temp_schemas = Create_Schema.schema_from_json_names(Agent_A_output, \"schema_data/combined_schema.json\", save_json=True)\n",
    "temp_schemas = json.loads(temp_schemas)\n",
    "SQL_list = []\n",
    "print(\"User query:\", user_query)\n",
    "for schema in tqdm(temp_schemas):\n",
    "    # Run on each database schema to generate SQL queries\n",
    "    print(\"\\nGenerating SQL query for schema:\", schema)\n",
    "    Agent_B_Response = Agent_B(user_query, temp_schemas[schema])\n",
    "    # Extract reasoning results from Agent B's response\n",
    "    Agent_B_results = reasoning_extractor(Agent_B_Response)\n",
    "    for result in Agent_B_results:\n",
    "        previous_reasoning.append(result)\n",
    "        display(Markdown(result))\n",
    "    # Save the final responses\n",
    "    print(\"\\nGenerated SQL query:\", Agent_B_Response.output_text)\n",
    "    SQL_list.append(Agent_B_Response.output_text)\n",
    "\n",
    "# Display the generated SQL queries\n",
    "print(\"\\nGenerated SQL queries:\")\n",
    "for sql in SQL_list:\n",
    "    display(Markdown(sql))"
   ]
  },
  {
   "cell_type": "code",
   "execution_count": 11,
   "id": "920df93d",
   "metadata": {},
   "outputs": [
    {
     "name": "stderr",
     "output_type": "stream",
     "text": [
      "2it [00:00, 2001.10it/s]"
     ]
    },
    {
     "name": "stdout",
     "output_type": "stream",
     "text": [
      "\n",
      "Executing SQL query on schema 'singer': SELECT COUNT(*) AS singer_count\n",
      "FROM singer;\n",
      "Connecting to SQLite database at: data\\singer\\singer.sqlite\n",
      "Connection successful.\n",
      "[\n",
      "    [\n",
      "        {\n",
      "            \"singer_count\": 8\n",
      "        }\n",
      "    ]\n",
      "]\n",
      "\n",
      "Executing SQL query on schema 'concert_singer': SELECT COUNT(*) AS total_singers\n",
      "FROM singer;\n",
      "Connecting to SQLite database at: data\\concert_singer\\concert_singer.sqlite\n",
      "Connection successful.\n",
      "[\n",
      "    [\n",
      "        {\n",
      "            \"total_singers\": 6\n",
      "        }\n",
      "    ]\n",
      "]\n"
     ]
    },
    {
     "name": "stderr",
     "output_type": "stream",
     "text": [
      "\n"
     ]
    }
   ],
   "source": [
    "sql_results = []\n",
    "# Execute the generated SQL queries\n",
    "for schema, sql in tqdm(zip(temp_schemas, SQL_list)):\n",
    "    print(f\"\\nExecuting SQL query on schema '{schema}': {sql}\")\n",
    "    result = connect_and_query(schema, sql)\n",
    "    sql_results.append(result)\n",
    "    print(result)"
   ]
  },
  {
   "cell_type": "code",
   "execution_count": 13,
   "id": "0a46f347",
   "metadata": {},
   "outputs": [],
   "source": [
    "from AI_Agents import Agent_C\n",
    "# clear \\n and {}, [] in previous_reasoning\n",
    "previous_reasoning = str(previous_reasoning).replace(\"\\n\", \" \").replace(\"{\", \"\").replace(\"}\", \"\").replace(\"[\", \"\").replace(\"]\", \"\")\n",
    "sql_results = str(sql_results)\n",
    "Agent_C_Response = Agent_C(user_query, sql_result=sql_results, previous_reasoning= previous_reasoning)"
   ]
  },
  {
   "cell_type": "code",
   "execution_count": 14,
   "id": "13462b42",
   "metadata": {},
   "outputs": [
    {
     "data": {
      "text/markdown": [
       "**Interpreting developer instructions**"
      ],
      "text/plain": [
       "<IPython.core.display.Markdown object>"
      ]
     },
     "metadata": {},
     "output_type": "display_data"
    },
    {
     "data": {
      "text/markdown": [
       "I need to carefully parse the developer instruction regarding the SQL query. The goal is to determine if the SQL result can be summarized or not. If it can be summarized, I'll provide a summary; if not, I’ll return the original result. If nothing is found, I’ll return \"NOT_FOUND.\" It’s clear that my final output must be a string containing either the summary or the original SQL result, preceded by an explanation of my reasoning."
      ],
      "text/plain": [
       "<IPython.core.display.Markdown object>"
      ]
     },
     "metadata": {},
     "output_type": "display_data"
    },
    {
     "data": {
      "text/markdown": [
       "**Analyzing SQL query results**"
      ],
      "text/plain": [
       "<IPython.core.display.Markdown object>"
      ]
     },
     "metadata": {},
     "output_type": "display_data"
    },
    {
     "data": {
      "text/markdown": [
       "The final output needs to be a string that either summarizes the SQL query result or returns the original SQL. I see that the SQL query result is an array of two strings, each containing stringified JSON. Each string has a single object with either \"singer_count\": 8 or \"total_singers\": 6. This indicates two separate queries—one from each database, \"singer\" and \"concert_singer.\" Since the counts conflict, I need to consider how to summarize this accurately."
      ],
      "text/plain": [
       "<IPython.core.display.Markdown object>"
      ]
     },
     "metadata": {},
     "output_type": "display_data"
    },
    {
     "data": {
      "text/markdown": [
       "**Determining SQL result summarization**"
      ],
      "text/plain": [
       "<IPython.core.display.Markdown object>"
      ]
     },
     "metadata": {},
     "output_type": "display_data"
    },
    {
     "data": {
      "text/markdown": [
       "The directive is clear: I need to assess if I can summarize the SQL query result. If possible, I'll create a summary; if not, I return the original result or \"NOT_FOUND.\" Since there are multiple results, I usually summarize by indicating counts. But, I'm unsure if the results are separate or duplicates. The goal seems to be presenting a summary like \"singer_count: 8; total_singers: 6.\" The keys indicate naming but lack explicit database labels."
      ],
      "text/plain": [
       "<IPython.core.display.Markdown object>"
      ]
     },
     "metadata": {},
     "output_type": "display_data"
    },
    {
     "data": {
      "text/markdown": [
       "**Summarizing singer counts**"
      ],
      "text/plain": [
       "<IPython.core.display.Markdown object>"
      ]
     },
     "metadata": {},
     "output_type": "display_data"
    },
    {
     "data": {
      "text/markdown": [
       "I can summarize the results by saying there are 8 singers from the first query and 6 from the second. A clearer way to put it could be: \"Counts differ across databases: 8 in singer and 6 in concert_singer.\" However, I lack a direct mapping for which count belongs to which database. It seems both queries targeted the \"singer\" table. This suggests that both queries were essentially the same but used different aliases for clarity."
      ],
      "text/plain": [
       "<IPython.core.display.Markdown object>"
      ]
     },
     "metadata": {},
     "output_type": "display_data"
    },
    {
     "data": {
      "text/markdown": [
       "**Clarifying output structure**"
      ],
      "text/plain": [
       "<IPython.core.display.Markdown object>"
      ]
     },
     "metadata": {},
     "output_type": "display_data"
    },
    {
     "data": {
      "text/markdown": [
       "The results show counts of 8 and 6, likely from different databases. I need to summarize this information and I believe it's possible. A clear summary could be: \"Counts returned: 8 and 6.\" However, I must also provide an explanation first, stating that these counts come from different queries. "
      ],
      "text/plain": [
       "<IPython.core.display.Markdown object>"
      ]
     },
     "metadata": {},
     "output_type": "display_data"
    },
    {
     "data": {
      "text/markdown": [
       "So I'll deliver the explanation briefly, followed by a summary string. Since clarity is essential, I'll format it with a line break between the two sections to ensure readability. This keeps in mind the possibility of further parsing in the app."
      ],
      "text/plain": [
       "<IPython.core.display.Markdown object>"
      ]
     },
     "metadata": {},
     "output_type": "display_data"
    },
    {
     "data": {
      "text/markdown": [
       "**Crafting the summary output**"
      ],
      "text/plain": [
       "<IPython.core.display.Markdown object>"
      ]
     },
     "metadata": {},
     "output_type": "display_data"
    },
    {
     "data": {
      "text/markdown": [
       "I need to provide a clear explanation about the SQL results, which come from two different databases. I can summarize them by listing both counts: \"8 (singer_count)\" and \"6 (total_singers).\" Even though I might consider returning just one count, the directive emphasizes summarization is essential here. Since the user asked about the total number of singers, I’ll include my reasoning first, followed by a summary string, avoiding heavy formatting. Here's the reasoning:"
      ],
      "text/plain": [
       "<IPython.core.display.Markdown object>"
      ]
     },
     "metadata": {},
     "output_type": "display_data"
    },
    {
     "data": {
      "text/markdown": [
       "\"Can be summarized: The query returned two counts from different databases. "
      ],
      "text/plain": [
       "<IPython.core.display.Markdown object>"
      ]
     },
     "metadata": {},
     "output_type": "display_data"
    },
    {
     "data": {
      "text/markdown": [
       "Final: \"Counts: singer_count = 8; total_singers = 6.\""
      ],
      "text/plain": [
       "<IPython.core.display.Markdown object>"
      ]
     },
     "metadata": {},
     "output_type": "display_data"
    },
    {
     "data": {
      "text/markdown": [
       "**Finalizing the summary output**"
      ],
      "text/plain": [
       "<IPython.core.display.Markdown object>"
      ]
     },
     "metadata": {},
     "output_type": "display_data"
    },
    {
     "data": {
      "text/markdown": [
       "I want to provide a clear summary of the SQL results, which include two counts from different queries: \"singer_count: 8\" and \"total_singers: 6.\" Since the user asked, \"How many singers do we have?\" I think they might just want a simple answer. My explanation will be concise: \"I can summarize: there are two counts returned.\" Then, I’ll follow it up with, \"singer_count: 8; total_singers: 6.\" This keeps everything straightforward and avoids ambiguity."
      ],
      "text/plain": [
       "<IPython.core.display.Markdown object>"
      ]
     },
     "metadata": {},
     "output_type": "display_data"
    }
   ],
   "source": [
    "# Render the final reasoning response from Agent C\n",
    "Agent_C_results = reasoning_extractor(Agent_C_Response)\n",
    "for result in Agent_C_results:\n",
    "\tdisplay(Markdown(result))"
   ]
  },
  {
   "cell_type": "code",
   "execution_count": 15,
   "id": "281d8d2a",
   "metadata": {},
   "outputs": [
    {
     "data": {
      "text/markdown": [
       "Reason: The SQL produced two separate count results (likely from different queries/databases). This can be summarized by listing both counts rather than choosing or merging them.\n",
       "\n",
       "singer_count: 8; total_singers: 6"
      ],
      "text/plain": [
       "<IPython.core.display.Markdown object>"
      ]
     },
     "metadata": {},
     "output_type": "display_data"
    }
   ],
   "source": [
    "# Render the final response from Agent C\n",
    "display(Markdown(Agent_C_Response.output_text))"
   ]
  }
 ],
 "metadata": {
  "kernelspec": {
   "display_name": "pytorch222_py310",
   "language": "python",
   "name": "python3"
  },
  "language_info": {
   "codemirror_mode": {
    "name": "ipython",
    "version": 3
   },
   "file_extension": ".py",
   "mimetype": "text/x-python",
   "name": "python",
   "nbconvert_exporter": "python",
   "pygments_lexer": "ipython3",
   "version": "3.10.18"
  }
 },
 "nbformat": 4,
 "nbformat_minor": 5
}
